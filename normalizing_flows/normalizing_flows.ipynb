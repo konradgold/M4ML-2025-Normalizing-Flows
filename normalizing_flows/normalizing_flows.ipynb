{
 "cells": [
  {
   "cell_type": "code",
   "execution_count": null,
   "id": "2c8dd879",
   "metadata": {
    "vscode": {
     "languageId": "plaintext"
    }
   },
   "outputs": [],
   "source": [
    "from affine_coupling import AffineCoupling\n",
    "\n",
    "ac = AffineCoupling(size=4)"
   ]
  }
 ],
 "metadata": {
  "language_info": {
   "name": "python"
  }
 },
 "nbformat": 4,
 "nbformat_minor": 5
}
