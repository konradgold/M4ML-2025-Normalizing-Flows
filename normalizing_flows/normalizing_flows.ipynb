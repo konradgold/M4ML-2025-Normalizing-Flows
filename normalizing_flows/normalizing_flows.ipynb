{
 "cells": [
  {
   "cell_type": "code",
   "execution_count": 1,
   "id": "2c8dd879",
   "metadata": {},
   "outputs": [
    {
     "name": "stdout",
     "output_type": "stream",
     "text": [
      "tensor(0., grad_fn=<MinBackward1>) tensor(5.9605e-08, grad_fn=<MaxBackward1>)\n",
      "tensor(-5.9605e-08, grad_fn=<MinBackward1>) tensor(5.9605e-08, grad_fn=<MaxBackward1>)\n"
     ]
    }
   ],
   "source": [
    "from affine_coupling import AffineCoupling\n",
    "\n",
    "ac = AffineCoupling(size=4)\n",
    "ac.test_identity()\n",
    "\n",
    "from affine_coupling import BatchNormFlow\n",
    "\n",
    "bnf = BatchNormFlow(dim=4)\n",
    "bnf.test_identity()"
   ]
  },
  {
   "cell_type": "code",
   "execution_count": 2,
   "id": "241b06d1",
   "metadata": {},
   "outputs": [
    {
     "name": "stdout",
     "output_type": "stream",
     "text": [
      "tensor(0., grad_fn=<MinBackward1>) tensor(5.9605e-08, grad_fn=<MaxBackward1>)\n"
     ]
    }
   ],
   "source": [
    "from affine_coupling import NormalizingFlow\n",
    "\n",
    "nf = NormalizingFlow(input_dim=4, num_layers=2)\n",
    "nf.test_identity()"
   ]
  }
 ],
 "metadata": {
  "kernelspec": {
   "display_name": "m4ml-2025-normalizing-flows",
   "language": "python",
   "name": "python3"
  },
  "language_info": {
   "codemirror_mode": {
    "name": "ipython",
    "version": 3
   },
   "file_extension": ".py",
   "mimetype": "text/x-python",
   "name": "python",
   "nbconvert_exporter": "python",
   "pygments_lexer": "ipython3",
   "version": "3.11.12"
  }
 },
 "nbformat": 4,
 "nbformat_minor": 5
}
