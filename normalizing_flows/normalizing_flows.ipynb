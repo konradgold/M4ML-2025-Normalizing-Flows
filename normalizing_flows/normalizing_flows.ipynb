{
 "cells": [
  {
   "cell_type": "code",
   "execution_count": 1,
   "id": "2c8dd879",
   "metadata": {},
   "outputs": [
    {
     "name": "stderr",
     "output_type": "stream",
     "text": [
      "/Volumes/KG1TB/Developement/M4ML-2025-Normalizing-Flows/.venv/lib/python3.11/site-packages/torch/_subclasses/functional_tensor.py:276: UserWarning: Failed to initialize NumPy: No module named 'numpy' (Triggered internally at /Users/runner/work/pytorch/pytorch/pytorch/torch/csrc/utils/tensor_numpy.cpp:81.)\n",
      "  cpu = _conversion_method_template(device=torch.device(\"cpu\"))\n"
     ]
    },
    {
     "name": "stdout",
     "output_type": "stream",
     "text": [
      "tensor(0., grad_fn=<MinBackward1>) tensor(0., grad_fn=<MaxBackward1>)\n"
     ]
    }
   ],
   "source": [
    "from affine_coupling import AffineCoupling\n",
    "\n",
    "ac = AffineCoupling(size=4)\n",
    "ac.test_identity()"
   ]
  },
  {
   "cell_type": "code",
   "execution_count": 1,
   "id": "241b06d1",
   "metadata": {},
   "outputs": [
    {
     "name": "stdout",
     "output_type": "stream",
     "text": [
      "tensor(-1.8683, grad_fn=<MinBackward1>) tensor(0.8932, grad_fn=<MaxBackward1>)\n"
     ]
    },
    {
     "ename": "AssertionError",
     "evalue": "",
     "output_type": "error",
     "traceback": [
      "\u001b[31m---------------------------------------------------------------------------\u001b[39m",
      "\u001b[31mAssertionError\u001b[39m                            Traceback (most recent call last)",
      "\u001b[36mCell\u001b[39m\u001b[36m \u001b[39m\u001b[32mIn[1]\u001b[39m\u001b[32m, line 4\u001b[39m\n\u001b[32m      1\u001b[39m \u001b[38;5;28;01mfrom\u001b[39;00m\u001b[38;5;250m \u001b[39m\u001b[34;01maffine_coupling\u001b[39;00m\u001b[38;5;250m \u001b[39m\u001b[38;5;28;01mimport\u001b[39;00m NormalizingFlow\n\u001b[32m      3\u001b[39m nf = NormalizingFlow(input_dim=\u001b[32m4\u001b[39m, num_layers=\u001b[32m2\u001b[39m)\n\u001b[32m----> \u001b[39m\u001b[32m4\u001b[39m \u001b[43mnf\u001b[49m\u001b[43m.\u001b[49m\u001b[43mtest_identity\u001b[49m\u001b[43m(\u001b[49m\u001b[43m)\u001b[49m\n",
      "\u001b[36mFile \u001b[39m\u001b[32m/Volumes/KG1TB/Developement/M4ML-2025-Normalizing-Flows/normalizing_flows/affine_coupling.py:142\u001b[39m, in \u001b[36mNormalizingFlow.test_identity\u001b[39m\u001b[34m(self, tolerance)\u001b[39m\n\u001b[32m    140\u001b[39m recovered = \u001b[38;5;28mself\u001b[39m.inverse(z)\n\u001b[32m    141\u001b[39m \u001b[38;5;28mprint\u001b[39m(torch.min(recovered-x), torch.max(recovered-x))\n\u001b[32m--> \u001b[39m\u001b[32m142\u001b[39m \u001b[38;5;28;01massert\u001b[39;00m torch.allclose(recovered, x, atol=tolerance, rtol=tolerance)\n",
      "\u001b[31mAssertionError\u001b[39m: "
     ]
    }
   ],
   "source": [
    "from affine_coupling import NormalizingFlow\n",
    "\n",
    "nf = NormalizingFlow(input_dim=4, num_layers=2)\n",
    "nf.test_identity()"
   ]
  }
 ],
 "metadata": {
  "kernelspec": {
   "display_name": "m4ml-2025-normalizing-flows",
   "language": "python",
   "name": "python3"
  },
  "language_info": {
   "codemirror_mode": {
    "name": "ipython",
    "version": 3
   },
   "file_extension": ".py",
   "mimetype": "text/x-python",
   "name": "python",
   "nbconvert_exporter": "python",
   "pygments_lexer": "ipython3",
   "version": "3.11.12"
  }
 },
 "nbformat": 4,
 "nbformat_minor": 5
}
